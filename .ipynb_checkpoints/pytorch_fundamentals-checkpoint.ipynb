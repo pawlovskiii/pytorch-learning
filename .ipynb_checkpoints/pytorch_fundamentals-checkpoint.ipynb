{
 "cells": [
  {
   "cell_type": "code",
   "execution_count": 1,
   "metadata": {
    "colab": {
     "base_uri": "https://localhost:8080/"
    },
    "executionInfo": {
     "elapsed": 296,
     "status": "ok",
     "timestamp": 1666202679922,
     "user": {
      "displayName": "Jakub Pawłowski",
      "userId": "17041716350307765452"
     },
     "user_tz": -120
    },
    "id": "5vsb3jwa4Z3n",
    "outputId": "e002ba84-8503-41e4-e989-5d27576e4153"
   },
   "outputs": [
    {
     "name": "stdout",
     "output_type": "stream",
     "text": [
      "/content/drive/MyDrive/GitHub/pytorch-learning\n"
     ]
    }
   ],
   "source": [
    "cd drive/MyDrive/GitHub/pytorch-learning/"
   ]
  },
  {
   "cell_type": "code",
   "execution_count": 2,
   "metadata": {
    "colab": {
     "base_uri": "https://localhost:8080/"
    },
    "executionInfo": {
     "elapsed": 3780,
     "status": "ok",
     "timestamp": 1666202687091,
     "user": {
      "displayName": "Jakub Pawłowski",
      "userId": "17041716350307765452"
     },
     "user_tz": -120
    },
    "id": "_RdhTuua_-iL",
    "outputId": "62370b4b-f74d-4773-98e2-a0002ebea094"
   },
   "outputs": [
    {
     "name": "stdout",
     "output_type": "stream",
     "text": [
      "1.12.1+cu113\n"
     ]
    }
   ],
   "source": [
    "import torch\n",
    "import pandas as pd\n",
    "import numpy as np\n",
    "import matplotlib.pyplot as plt\n",
    "print(torch.__version__)"
   ]
  },
  {
   "cell_type": "code",
   "execution_count": 3,
   "metadata": {
    "colab": {
     "base_uri": "https://localhost:8080/"
    },
    "executionInfo": {
     "elapsed": 6,
     "status": "ok",
     "timestamp": 1666202687092,
     "user": {
      "displayName": "Jakub Pawłowski",
      "userId": "17041716350307765452"
     },
     "user_tz": -120
    },
    "id": "nB6ADoIWFvNP",
    "outputId": "73f12fa1-35ed-4bc3-f786-c56b126d8e82"
   },
   "outputs": [
    {
     "data": {
      "text/plain": [
       "(torch.Size([3, 3]), torch.int64, device(type='cpu'))"
      ]
     },
     "execution_count": 3,
     "metadata": {},
     "output_type": "execute_result"
    }
   ],
   "source": [
    "tensor = torch.tensor([[3, 4, 5],\n",
    "                       [1, 2, 3],\n",
    "                       [2, 2, 2]])\n",
    "tensor.shape, tensor.dtype, tensor.device"
   ]
  },
  {
   "cell_type": "code",
   "execution_count": 4,
   "metadata": {
    "colab": {
     "base_uri": "https://localhost:8080/"
    },
    "executionInfo": {
     "elapsed": 4,
     "status": "ok",
     "timestamp": 1666202687397,
     "user": {
      "displayName": "Jakub Pawłowski",
      "userId": "17041716350307765452"
     },
     "user_tz": -120
    },
    "id": "rst5Vk4VF4jA",
    "outputId": "621dd26f-4ad4-46b5-8191-8298402facd4"
   },
   "outputs": [
    {
     "data": {
      "text/plain": [
       "tensor([[23, 30, 37],\n",
       "        [11, 14, 17],\n",
       "        [12, 16, 20]])"
      ]
     },
     "execution_count": 4,
     "metadata": {},
     "output_type": "execute_result"
    }
   ],
   "source": [
    "someTensor = tensor @ tensor\n",
    "someTensor"
   ]
  },
  {
   "cell_type": "code",
   "execution_count": 5,
   "metadata": {
    "colab": {
     "base_uri": "https://localhost:8080/"
    },
    "executionInfo": {
     "elapsed": 2931,
     "status": "ok",
     "timestamp": 1666202741755,
     "user": {
      "displayName": "Jakub Pawłowski",
      "userId": "17041716350307765452"
     },
     "user_tz": -120
    },
    "id": "1QKWVD7Da9Il",
    "outputId": "27a11192-55b6-4092-8118-dd824972cd4c"
   },
   "outputs": [
    {
     "name": "stdout",
     "output_type": "stream",
     "text": [
      "\n",
      "*** Please tell me who you are.\n",
      "\n",
      "Run\n",
      "\n",
      "  git config --global user.email \"you@example.com\"\n",
      "  git config --global user.name \"Your Name\"\n",
      "\n",
      "to set your account's default identity.\n",
      "Omit --global to set the identity only in this repository.\n",
      "\n",
      "fatal: unable to auto-detect email address (got 'root@7637f9b00948.(none)')\n"
     ]
    }
   ],
   "source": [
    "!git commit . -m \"More work on tensors within PyTorch\""
   ]
  }
 ],
 "metadata": {
  "colab": {
   "authorship_tag": "ABX9TyPImzal2S2nmDQ8xCRn6jya",
   "collapsed_sections": [],
   "mount_file_id": "1WBMxvvihX8dXTtqknkOYulZ_-j1ZXTcM",
   "provenance": []
  },
  "kernelspec": {
   "display_name": "Python 3 (ipykernel)",
   "language": "python",
   "name": "python3"
  },
  "language_info": {
   "codemirror_mode": {
    "name": "ipython",
    "version": 3
   },
   "file_extension": ".py",
   "mimetype": "text/x-python",
   "name": "python",
   "nbconvert_exporter": "python",
   "pygments_lexer": "ipython3",
   "version": "3.9.12"
  }
 },
 "nbformat": 4,
 "nbformat_minor": 1
}
