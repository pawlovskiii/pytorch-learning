{
 "cells": [
  {
   "cell_type": "code",
   "execution_count": 12,
   "metadata": {
    "colab": {
     "base_uri": "https://localhost:8080/"
    },
    "executionInfo": {
     "elapsed": 3780,
     "status": "ok",
     "timestamp": 1666202687091,
     "user": {
      "displayName": "Jakub Pawłowski",
      "userId": "17041716350307765452"
     },
     "user_tz": -120
    },
    "id": "_RdhTuua_-iL",
    "outputId": "62370b4b-f74d-4773-98e2-a0002ebea094"
   },
   "outputs": [
    {
     "name": "stdout",
     "output_type": "stream",
     "text": [
      "1.12.1\n"
     ]
    }
   ],
   "source": [
    "import torch\n",
    "import pandas as pd\n",
    "import numpy as np\n",
    "import matplotlib.pyplot as plt\n",
    "print(torch.__version__)"
   ]
  },
  {
   "cell_type": "code",
   "execution_count": 15,
   "metadata": {
    "colab": {
     "base_uri": "https://localhost:8080/"
    },
    "executionInfo": {
     "elapsed": 6,
     "status": "ok",
     "timestamp": 1666202687092,
     "user": {
      "displayName": "Jakub Pawłowski",
      "userId": "17041716350307765452"
     },
     "user_tz": -120
    },
    "id": "nB6ADoIWFvNP",
    "outputId": "73f12fa1-35ed-4bc3-f786-c56b126d8e82"
   },
   "outputs": [
    {
     "data": {
      "text/plain": [
       "(torch.Size([3, 3]), torch.int64, device(type='cpu'))"
      ]
     },
     "execution_count": 15,
     "metadata": {},
     "output_type": "execute_result"
    }
   ],
   "source": [
    "tensor = torch.tensor([[3, 1, 5],\n",
    "                       [1, 2, 3],\n",
    "                       [3, 2, 27]])\n",
    "tensor.shape, tensor.dtype, tensor.device"
   ]
  },
  {
   "cell_type": "code",
   "execution_count": 16,
   "metadata": {
    "colab": {
     "base_uri": "https://localhost:8080/"
    },
    "executionInfo": {
     "elapsed": 4,
     "status": "ok",
     "timestamp": 1666202687397,
     "user": {
      "displayName": "Jakub Pawłowski",
      "userId": "17041716350307765452"
     },
     "user_tz": -120
    },
    "id": "rst5Vk4VF4jA",
    "outputId": "621dd26f-4ad4-46b5-8191-8298402facd4"
   },
   "outputs": [
    {
     "data": {
      "text/plain": [
       "tensor([[ 25,  15, 153],\n",
       "        [ 14,  11,  92],\n",
       "        [ 92,  61, 750]])"
      ]
     },
     "execution_count": 16,
     "metadata": {},
     "output_type": "execute_result"
    }
   ],
   "source": [
    "someTensor = tensor @ tensor\n",
    "someTensor"
   ]
  },
  {
   "cell_type": "code",
   "execution_count": null,
   "metadata": {},
   "outputs": [],
   "source": []
  }
 ],
 "metadata": {
  "colab": {
   "authorship_tag": "ABX9TyPImzal2S2nmDQ8xCRn6jya",
   "collapsed_sections": [],
   "mount_file_id": "1WBMxvvihX8dXTtqknkOYulZ_-j1ZXTcM",
   "provenance": []
  },
  "kernelspec": {
   "display_name": "Python 3 (ipykernel)",
   "language": "python",
   "name": "python3"
  },
  "language_info": {
   "codemirror_mode": {
    "name": "ipython",
    "version": 3
   },
   "file_extension": ".py",
   "mimetype": "text/x-python",
   "name": "python",
   "nbconvert_exporter": "python",
   "pygments_lexer": "ipython3",
   "version": "3.9.12"
  }
 },
 "nbformat": 4,
 "nbformat_minor": 1
}
